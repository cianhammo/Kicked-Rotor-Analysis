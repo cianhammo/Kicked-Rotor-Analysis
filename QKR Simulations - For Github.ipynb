{
 "cells": [
  {
   "cell_type": "code",
   "execution_count": 15,
   "metadata": {},
   "outputs": [],
   "source": [
    "import numpy as np\n",
    "import scipy.special as bessel\n",
    "from scipy.optimize import curve_fit\n",
    "from scipy.optimize import least_squares\n",
    "\n",
    "import math as maths\n",
    "import matplotlib.pyplot as plt\n",
    "from mpl_toolkits.mplot3d import Axes3D\n",
    "import pickle\n",
    "import matplotlib.cm as cm\n",
    "from random import randrange\n",
    "\n"
   ]
  },
  {
   "cell_type": "code",
   "execution_count": null,
   "metadata": {},
   "outputs": [],
   "source": [
    "def f(x, A, B): \n",
    "    return A*x + B\n",
    "\n",
    "def inverted_v(input_data, L):\n",
    "    output = np.log(1-np.exp(-1/L)) - np.log(1+np.exp(-1/L)) -np.abs(np.array(input_data))/L\n",
    "    return output\n",
    "\n",
    "\n",
    "\n"
   ]
  },
  {
   "cell_type": "markdown",
   "metadata": {},
   "source": [
    "The quantum state is represented by a vector in momentum space. The state at t=0 is the initial condition, and we can calculate how the state evolves in time for discrete values of the period (T) of the system, i.e. we can know the state of the system at t=2T, but not t=2.5T.\n",
    "\n",
    "The system has 2 free parameters, k and tau. \n",
    "\n",
    "For more details see https://doi.org/10.1063/5.0084028\n",
    "\n",
    "vector(t=t_0+T) = vector(t=t_0)*U_matrix"
   ]
  },
  {
   "cell_type": "code",
   "execution_count": null,
   "metadata": {},
   "outputs": [],
   "source": [
    "\n",
    "#This function calculates the U_matrix for a certain value of k, tau. \n",
    "#The size of the matrix is also important. Make it as large as possible\n",
    "def gbg_method(matrix_size, k, tau):\n",
    "    #matrix_size must be odd\n",
    "    N = int(np.floor(matrix_size/2))\n",
    "    l = list(range(-N, N+1))\n",
    "    G = np.zeros((len(l), len(l)), dtype = \"complex\")\n",
    "    B_lower_diag = np.zeros((len(l), len(l)), dtype = \"complex\")\n",
    "    for i in range(0, len(l)):\n",
    "        G[i,i] = np.exp(-1*complex(0,1)*(tau/4)*l[i]**2)\n",
    "        for j in range(0, i+1):\n",
    "            B_lower_diag[i,j]=(complex(0,1)**(l[i]-l[j]))*bessel.jv(l[i]-l[j], k)\n",
    "    B = B_lower_diag + B_lower_diag.T - np.diag(B_lower_diag.diagonal())\n",
    "    GBG = np.matmul(G, np.matmul(B, G))\n",
    "    return GBG\n",
    "\n",
    "#This function generates the initial conditions\n",
    "def initial_condition_generator(size, list_input): #list_input = [mag, element1, element2, ...]\n",
    "    \"\"\"\n",
    "    Input the length of the desired vector (size). All elements of the vector will default to 0, unless specified\n",
    "    in the list_input\n",
    "    \n",
    "    output:\n",
    "    single normalised vector \n",
    "    \n",
    "    \"\"\"\n",
    "    initial_condition = np.zeros((size, 1))\n",
    "    mag = list_input[0]\n",
    "    elements = list_input[1:]\n",
    "    for element in elements:\n",
    "        initial_condition[element] = mag\n",
    "    norm = np.linalg.norm(initial_condition)\n",
    "    initial_condition = initial_condition/norm\n",
    "    return initial_condition\n",
    "\n",
    "\n",
    "def matrix_sizer_single(k, tau, size, small_number_input):\n",
    "    x_axis_data = []\n",
    "    eig_values_size = []\n",
    "    U = gbg_method(size, k, tau)\n",
    "    x_axis_data.append(size)\n",
    "    eigenvalues = np.flip(np.sort(np.abs(np.linalg.eig(U)[0])))\n",
    "    counter = 0\n",
    "    for element in eigenvalues:\n",
    "        if np.abs(1 - element) > small_number_input:\n",
    "            counter = counter + 1\n",
    "    ratio_item = round((1 - counter/len(eigenvalues))*100, 2)\n",
    "    return ratio_item\n",
    "\n",
    "\n",
    "def quantum_kicker(n, k, tau, steps, initial_condition):\n",
    "    \"\"\"\n",
    "    n = side-size of matrix U. Must be an odd integer\n",
    "    steps = number of kicks that will be simulated\n",
    "    \"\"\"\n",
    "    #calculate matrix U\n",
    "    U = gbg_method_better(n, k, tau)\n",
    "    traj = initial_condition\n",
    "    vector = initial_condition\n",
    "    #Simply the new vector is equal to the old one multiplied by the U matrix (the U matrix is constant)\n",
    "    for step in range(steps-1):\n",
    "        #new_vector = old_vector*U_matrix\n",
    "        vector = U.dot(vector)\n",
    "        traj = np.concatenate((traj, vector), 1)\n",
    "    #traj is simply the collection of vectors. Each vector describes the state.\n",
    "    return traj\n",
    "\n",
    "#U_steps = np.linalg.matrix_power(U, steps)\n",
    "\n",
    "def analyser(input_array):\n",
    "    length = input_array.shape[1]\n",
    "    output = []\n",
    "    for i in range(length):\n",
    "        output.append(input_array[:, i])\n",
    "    return np.array(output)\n",
    "\n",
    "def zero_finder(input_list):\n",
    "    output_list = []\n",
    "    for data_list in input_list:\n",
    "        indices = []\n",
    "        for i in range(len(data_list)-1):\n",
    "            if (data_list[i] == 0 and data_list[i+1] != 0) or (data_list[i] != 0 and data_list[i+1] == 0):\n",
    "                indices.append(i+1)\n",
    "        if indices == []:\n",
    "            indices = [0, len(data_list)]\n",
    "        output_list.append(indices)\n",
    "    return output_list\n",
    "\n",
    "#This function outputs the energy of each vector when the trajectory is inputted\n",
    "def energy_analyser(input_coefficients_list):\n",
    "    l = len(input_coefficients_list)\n",
    "    basis_list = np.array(list(range(-l//2 +1, (l//2)+1)))\n",
    "    basis_list_sqr = basis_list**2\n",
    "    coefficients_sqr = np.abs(input_coefficients_list)**2\n",
    "    energy = 0.5*sum(basis_list_sqr*coefficients_sqr)\n",
    "    #The energy is given by (1/2)*SUM_OVER_i{(coefficients_i^2)*(basis_element_i^2)}\n",
    "    return energy\n",
    "\n",
    "\n"
   ]
  },
  {
   "cell_type": "code",
   "execution_count": null,
   "metadata": {},
   "outputs": [],
   "source": []
  },
  {
   "cell_type": "code",
   "execution_count": null,
   "metadata": {},
   "outputs": [],
   "source": [
    "Analysis\n"
   ]
  },
  {
   "cell_type": "code",
   "execution_count": null,
   "metadata": {},
   "outputs": [],
   "source": [
    "ll_data = []\n",
    "fraction_to_cut = 0.4\n",
    "\n",
    "for i in range(len(data_in)):\n",
    "    K_data = []\n",
    "    print(\"K = \"+str(K_numbers[i+K_offset]))\n",
    "    for j in range(len(k_list)):\n",
    "        print(j)\n",
    "        k_data = []\n",
    "        full_x_data = data_in[i][j][0]\n",
    "        x_half_len = len(full_x_data)//2\n",
    "        for frame in range(1, len(data_in[0][0][1])):\n",
    "            #This finds the indices which correspond to 0. Sometimes there are more than 2 e.g. [0, 0, 0.1, 0, 0.2, 1, 0.2, 0, 0, 0]\n",
    "            zero_indices = zero_finder([list(np.abs(data_in[i][j][1][frame])**2)])[0]\n",
    "            #This selects the indices which are the two inner ones\n",
    "            selected_indices = selector(zero_indices, x_half_len*2)\n",
    "            #This selects the zero_index closer to the centre\n",
    "            smaller_z_i = min([x_half_len-selected_indices[0], selected_indices[1]-x_half_len])\n",
    "            #Full dataset with 0s removed\n",
    "            unsliced_x = data_in[i][j][0][x_half_len-ploffset: x_half_len+ploffset]\n",
    "            unsliced_y = np.log([list(np.abs(data_in[i][j][1][frame])**2)][0][x_half_len-ploffset: x_half_len+ploffset])\n",
    "            #This selects the indices which will be sliced\n",
    "            slicer_indices = conceptual_divider(len(unsliced_x), fraction_to_cut)\n",
    "            #Middle fraction sliced out\n",
    "            x_data = slicer(unsliced_x, slicer_indices)\n",
    "            y_data = slicer(unsliced_y, slicer_indices)\n",
    "            ####\n",
    "            if frame != 1 and v_popt < 9:\n",
    "                suggestion = v_popt*1.01\n",
    "            else:\n",
    "                suggestion = 0.2\n",
    "            v_popt, v_pcov = curve_fit(inverted_v_2, x_data, y_data, p0 = suggestion, bounds = (0.05, 10))\n",
    "            k_data.append(v_popt)\n",
    "        K_data.append(k_data)\n",
    "    ll_data.append(K_data)\n",
    "    \n"
   ]
  },
  {
   "cell_type": "code",
   "execution_count": null,
   "metadata": {},
   "outputs": [],
   "source": [
    "energy_data = []\n",
    "for K_data in data_k_tau_grid1:\n",
    "    big_temp = []\n",
    "    for k_data in K_data:\n",
    "        temp = [energy_analyser(vector) for vector in k_data[1]]\n",
    "        big_temp.append(temp)\n",
    "    energy_data.append(big_temp)"
   ]
  },
  {
   "cell_type": "code",
   "execution_count": 4,
   "metadata": {},
   "outputs": [],
   "source": [
    "def choose(n, k):\n",
    "    return maths.factorial(n)/(maths.factorial(k)*maths.factorial(n-k))"
   ]
  },
  {
   "cell_type": "code",
   "execution_count": 9,
   "metadata": {},
   "outputs": [],
   "source": [
    "count = 0\n",
    "for i in range(8, 11):\n",
    "    count = count + choose(10, i)*(0.8**i)*(0.2**(10-i))"
   ]
  },
  {
   "cell_type": "code",
   "execution_count": 10,
   "metadata": {},
   "outputs": [
    {
     "name": "stdout",
     "output_type": "stream",
     "text": [
      "0.6777995264000004\n"
     ]
    }
   ],
   "source": [
    "print(count)"
   ]
  },
  {
   "cell_type": "code",
   "execution_count": 125,
   "metadata": {},
   "outputs": [],
   "source": [
    "count = 0\n",
    "for i in range(0, 8):\n",
    "    count = count + choose(10, i)*(0.8**i)*(0.2**(10-i))"
   ]
  },
  {
   "cell_type": "code",
   "execution_count": 126,
   "metadata": {},
   "outputs": [
    {
     "name": "stdout",
     "output_type": "stream",
     "text": [
      "0.32220047360000015\n"
     ]
    }
   ],
   "source": [
    "print(count)"
   ]
  },
  {
   "cell_type": "code",
   "execution_count": 48,
   "metadata": {},
   "outputs": [],
   "source": [
    "#men = 0\n",
    "#women = 0\n",
    "all_people = []\n",
    "for i in range(50):\n",
    "    all_people.append(0)\n",
    "    all_people.append(1)"
   ]
  },
  {
   "cell_type": "code",
   "execution_count": 49,
   "metadata": {},
   "outputs": [
    {
     "name": "stdout",
     "output_type": "stream",
     "text": [
      "[0, 1, 0, 1, 0, 1, 0, 1, 0, 1, 0, 1, 0, 1, 0, 1, 0, 1, 0, 1, 0, 1, 0, 1, 0, 1, 0, 1, 0, 1, 0, 1, 0, 1, 0, 1, 0, 1, 0, 1, 0, 1, 0, 1, 0, 1, 0, 1, 0, 1, 0, 1, 0, 1, 0, 1, 0, 1, 0, 1, 0, 1, 0, 1, 0, 1, 0, 1, 0, 1, 0, 1, 0, 1, 0, 1, 0, 1, 0, 1, 0, 1, 0, 1, 0, 1, 0, 1, 0, 1, 0, 1, 0, 1, 0, 1, 0, 1, 0, 1]\n"
     ]
    }
   ],
   "source": [
    "print(all_people)"
   ]
  },
  {
   "cell_type": "code",
   "execution_count": 105,
   "metadata": {},
   "outputs": [],
   "source": [
    "\n",
    "\n",
    "def exercise():\n",
    "    indices_list = []\n",
    "    results = []\n",
    "    for i in range(4):\n",
    "        n = 1\n",
    "        temp = []\n",
    "        while n<26:\n",
    "            index = randrange(0, 100)\n",
    "            if index not in indices_list:\n",
    "                indices_list.append(index)\n",
    "                temp.append(all_people[index])\n",
    "                n = n+1\n",
    "        results.append(temp)\n",
    "    return results\n"
   ]
  },
  {
   "cell_type": "code",
   "execution_count": 107,
   "metadata": {},
   "outputs": [
    {
     "name": "stdout",
     "output_type": "stream",
     "text": [
      "[[1, 0, 0, 1, 1, 1, 0, 1, 0, 0, 1, 0, 1, 0, 1, 0, 1, 1, 0, 1, 0, 0, 0, 0, 0], [1, 0, 1, 0, 0, 0, 0, 0, 1, 1, 1, 1, 1, 1, 1, 0, 1, 0, 1, 0, 1, 1, 0, 1, 1], [1, 0, 0, 1, 1, 1, 0, 1, 1, 0, 0, 1, 1, 1, 0, 0, 0, 1, 1, 0, 0, 1, 0, 0, 0], [0, 1, 0, 0, 1, 0, 1, 0, 1, 0, 1, 0, 1, 1, 0, 1, 1, 0, 0, 1, 1, 0, 1, 0, 0]]\n"
     ]
    }
   ],
   "source": [
    "l = exercise()\n",
    "print(l)"
   ]
  },
  {
   "cell_type": "code",
   "execution_count": 88,
   "metadata": {},
   "outputs": [
    {
     "name": "stdout",
     "output_type": "stream",
     "text": [
      "[[0, 0, 1, 1, 1, 0, 1, 1, 1, 0, 0, 0, 1, 1, 0, 0, 0, 0, 0, 0, 1, 0, 1, 0, 1], [1, 1, 1, 0, 0, 1, 1, 1, 0, 0, 1, 0, 1, 0, 1, 0, 0, 1, 0, 0, 1, 1, 0, 0, 0], [1, 1, 0, 1, 1, 1, 1, 0, 0, 0, 0, 1, 1, 1, 0, 1, 1, 0, 1, 0, 1, 0, 0, 0, 0], [1, 1, 1, 0, 1, 1, 1, 1, 1, 0, 0, 0, 0, 1, 1, 0, 0, 1, 0, 1, 1, 0, 0, 1, 0]]\n"
     ]
    }
   ],
   "source": [
    "print(results)"
   ]
  },
  {
   "cell_type": "code",
   "execution_count": 127,
   "metadata": {},
   "outputs": [],
   "source": [
    "\n",
    "fin = []\n",
    "for repetition in range(500000):\n",
    "    final = []\n",
    "    sub_sum_list = []\n",
    "    results = exercise()\n",
    "    for sub_list in results:\n",
    "        sub_sum = sum(sub_list)\n",
    "        sub_sum_list.append(sub_sum)\n",
    "    #print(total)\n",
    "    final.append(max(sub_sum_list))\n",
    "    fin.append(final[0])\n",
    "\n",
    "    "
   ]
  },
  {
   "cell_type": "code",
   "execution_count": 128,
   "metadata": {},
   "outputs": [
    {
     "name": "stdout",
     "output_type": "stream",
     "text": [
      "15.070142\n",
      "15.0\n"
     ]
    }
   ],
   "source": [
    "print(np.mean(fin))\n",
    "print(np.median(fin))"
   ]
  },
  {
   "cell_type": "code",
   "execution_count": null,
   "metadata": {},
   "outputs": [],
   "source": [
    "15.07488 for 100,000\n",
    "15.071904 for 500,000"
   ]
  },
  {
   "cell_type": "code",
   "execution_count": 123,
   "metadata": {},
   "outputs": [
    {
     "name": "stdout",
     "output_type": "stream",
     "text": [
      "23\n"
     ]
    }
   ],
   "source": [
    "print(max(fin))"
   ]
  },
  {
   "cell_type": "code",
   "execution_count": null,
   "metadata": {},
   "outputs": [],
   "source": []
  }
 ],
 "metadata": {
  "kernelspec": {
   "display_name": "Python 3",
   "language": "python",
   "name": "python3"
  },
  "language_info": {
   "codemirror_mode": {
    "name": "ipython",
    "version": 3
   },
   "file_extension": ".py",
   "mimetype": "text/x-python",
   "name": "python",
   "nbconvert_exporter": "python",
   "pygments_lexer": "ipython3",
   "version": "3.7.4"
  }
 },
 "nbformat": 4,
 "nbformat_minor": 2
}
